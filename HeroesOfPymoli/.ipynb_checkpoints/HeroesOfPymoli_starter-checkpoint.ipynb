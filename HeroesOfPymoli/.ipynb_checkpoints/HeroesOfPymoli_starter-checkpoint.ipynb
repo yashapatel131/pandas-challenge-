{
 "cells": [
  {
   "cell_type": "markdown",
   "metadata": {},
   "source": [
    "### Heroes Of Pymoli Data Analysis\n",
    "* Of the 1163 active players, the vast majority are male (84%). There also exists, a smaller, but notable proportion of female players (14%).\n",
    "\n",
    "* Our peak age demographic falls between 20-24 (44.8%) with secondary groups falling between 15-19 (18.60%) and 25-29 (13.4%).  \n",
    "-----"
   ]
  },
  {
   "cell_type": "markdown",
   "metadata": {},
   "source": [
    "### Note\n",
    "* Instructions have been included for each segment. You do not have to follow them exactly, but they are included to help you think through the steps."
   ]
  },
  {
   "cell_type": "code",
   "execution_count": 18,
   "metadata": {},
   "outputs": [
    {
     "data": {
      "text/html": [
       "<div>\n",
       "<style scoped>\n",
       "    .dataframe tbody tr th:only-of-type {\n",
       "        vertical-align: middle;\n",
       "    }\n",
       "\n",
       "    .dataframe tbody tr th {\n",
       "        vertical-align: top;\n",
       "    }\n",
       "\n",
       "    .dataframe thead th {\n",
       "        text-align: right;\n",
       "    }\n",
       "</style>\n",
       "<table border=\"1\" class=\"dataframe\">\n",
       "  <thead>\n",
       "    <tr style=\"text-align: right;\">\n",
       "      <th></th>\n",
       "      <th>Purchase ID</th>\n",
       "      <th>SN</th>\n",
       "      <th>Age</th>\n",
       "      <th>Gender</th>\n",
       "      <th>Item ID</th>\n",
       "      <th>Item Name</th>\n",
       "      <th>Price</th>\n",
       "    </tr>\n",
       "  </thead>\n",
       "  <tbody>\n",
       "    <tr>\n",
       "      <td>0</td>\n",
       "      <td>0</td>\n",
       "      <td>Lisim78</td>\n",
       "      <td>20</td>\n",
       "      <td>Male</td>\n",
       "      <td>108</td>\n",
       "      <td>Extraction, Quickblade Of Trembling Hands</td>\n",
       "      <td>3.53</td>\n",
       "    </tr>\n",
       "    <tr>\n",
       "      <td>1</td>\n",
       "      <td>1</td>\n",
       "      <td>Lisovynya38</td>\n",
       "      <td>40</td>\n",
       "      <td>Male</td>\n",
       "      <td>143</td>\n",
       "      <td>Frenzied Scimitar</td>\n",
       "      <td>1.56</td>\n",
       "    </tr>\n",
       "    <tr>\n",
       "      <td>2</td>\n",
       "      <td>2</td>\n",
       "      <td>Ithergue48</td>\n",
       "      <td>24</td>\n",
       "      <td>Male</td>\n",
       "      <td>92</td>\n",
       "      <td>Final Critic</td>\n",
       "      <td>4.88</td>\n",
       "    </tr>\n",
       "    <tr>\n",
       "      <td>3</td>\n",
       "      <td>3</td>\n",
       "      <td>Chamassasya86</td>\n",
       "      <td>24</td>\n",
       "      <td>Male</td>\n",
       "      <td>100</td>\n",
       "      <td>Blindscythe</td>\n",
       "      <td>3.27</td>\n",
       "    </tr>\n",
       "    <tr>\n",
       "      <td>4</td>\n",
       "      <td>4</td>\n",
       "      <td>Iskosia90</td>\n",
       "      <td>23</td>\n",
       "      <td>Male</td>\n",
       "      <td>131</td>\n",
       "      <td>Fury</td>\n",
       "      <td>1.44</td>\n",
       "    </tr>\n",
       "    <tr>\n",
       "      <td>...</td>\n",
       "      <td>...</td>\n",
       "      <td>...</td>\n",
       "      <td>...</td>\n",
       "      <td>...</td>\n",
       "      <td>...</td>\n",
       "      <td>...</td>\n",
       "      <td>...</td>\n",
       "    </tr>\n",
       "    <tr>\n",
       "      <td>775</td>\n",
       "      <td>775</td>\n",
       "      <td>Aethedru70</td>\n",
       "      <td>21</td>\n",
       "      <td>Female</td>\n",
       "      <td>60</td>\n",
       "      <td>Wolf</td>\n",
       "      <td>3.54</td>\n",
       "    </tr>\n",
       "    <tr>\n",
       "      <td>776</td>\n",
       "      <td>776</td>\n",
       "      <td>Iral74</td>\n",
       "      <td>21</td>\n",
       "      <td>Male</td>\n",
       "      <td>164</td>\n",
       "      <td>Exiled Doomblade</td>\n",
       "      <td>1.63</td>\n",
       "    </tr>\n",
       "    <tr>\n",
       "      <td>777</td>\n",
       "      <td>777</td>\n",
       "      <td>Yathecal72</td>\n",
       "      <td>20</td>\n",
       "      <td>Male</td>\n",
       "      <td>67</td>\n",
       "      <td>Celeste, Incarnation of the Corrupted</td>\n",
       "      <td>3.46</td>\n",
       "    </tr>\n",
       "    <tr>\n",
       "      <td>778</td>\n",
       "      <td>778</td>\n",
       "      <td>Sisur91</td>\n",
       "      <td>7</td>\n",
       "      <td>Male</td>\n",
       "      <td>92</td>\n",
       "      <td>Final Critic</td>\n",
       "      <td>4.19</td>\n",
       "    </tr>\n",
       "    <tr>\n",
       "      <td>779</td>\n",
       "      <td>779</td>\n",
       "      <td>Ennrian78</td>\n",
       "      <td>24</td>\n",
       "      <td>Male</td>\n",
       "      <td>50</td>\n",
       "      <td>Dawn</td>\n",
       "      <td>4.60</td>\n",
       "    </tr>\n",
       "  </tbody>\n",
       "</table>\n",
       "<p>780 rows × 7 columns</p>\n",
       "</div>"
      ],
      "text/plain": [
       "     Purchase ID             SN  Age  Gender  Item ID  \\\n",
       "0              0        Lisim78   20    Male      108   \n",
       "1              1    Lisovynya38   40    Male      143   \n",
       "2              2     Ithergue48   24    Male       92   \n",
       "3              3  Chamassasya86   24    Male      100   \n",
       "4              4      Iskosia90   23    Male      131   \n",
       "..           ...            ...  ...     ...      ...   \n",
       "775          775     Aethedru70   21  Female       60   \n",
       "776          776         Iral74   21    Male      164   \n",
       "777          777     Yathecal72   20    Male       67   \n",
       "778          778        Sisur91    7    Male       92   \n",
       "779          779      Ennrian78   24    Male       50   \n",
       "\n",
       "                                     Item Name  Price  \n",
       "0    Extraction, Quickblade Of Trembling Hands   3.53  \n",
       "1                            Frenzied Scimitar   1.56  \n",
       "2                                 Final Critic   4.88  \n",
       "3                                  Blindscythe   3.27  \n",
       "4                                         Fury   1.44  \n",
       "..                                         ...    ...  \n",
       "775                                       Wolf   3.54  \n",
       "776                           Exiled Doomblade   1.63  \n",
       "777      Celeste, Incarnation of the Corrupted   3.46  \n",
       "778                               Final Critic   4.19  \n",
       "779                                       Dawn   4.60  \n",
       "\n",
       "[780 rows x 7 columns]"
      ]
     },
     "execution_count": 18,
     "metadata": {},
     "output_type": "execute_result"
    }
   ],
   "source": [
    "# Dependencies and Setup\n",
    "import pandas as pd\n",
    "import numpy as np\n",
    "\n",
    "# File to Load (Remember to Change These)\n",
    "file_to_load = \"Resources/purchase_data.csv\"\n",
    "\n",
    "# Read Purchasing File and store into Pandas data frame\n",
    "purchase_data = pd.read_csv(file_to_load)\n",
    "purchase_data\n"
   ]
  },
  {
   "cell_type": "markdown",
   "metadata": {},
   "source": [
    "## Player Count"
   ]
  },
  {
   "cell_type": "markdown",
   "metadata": {},
   "source": [
    "* Display the total number of players\n"
   ]
  },
  {
   "cell_type": "code",
   "execution_count": 19,
   "metadata": {},
   "outputs": [
    {
     "data": {
      "text/html": [
       "<div>\n",
       "<style scoped>\n",
       "    .dataframe tbody tr th:only-of-type {\n",
       "        vertical-align: middle;\n",
       "    }\n",
       "\n",
       "    .dataframe tbody tr th {\n",
       "        vertical-align: top;\n",
       "    }\n",
       "\n",
       "    .dataframe thead th {\n",
       "        text-align: right;\n",
       "    }\n",
       "</style>\n",
       "<table border=\"1\" class=\"dataframe\">\n",
       "  <thead>\n",
       "    <tr style=\"text-align: right;\">\n",
       "      <th></th>\n",
       "      <th>Total Player</th>\n",
       "    </tr>\n",
       "  </thead>\n",
       "  <tbody>\n",
       "    <tr>\n",
       "      <td>0</td>\n",
       "      <td>576</td>\n",
       "    </tr>\n",
       "  </tbody>\n",
       "</table>\n",
       "</div>"
      ],
      "text/plain": [
       "   Total Player\n",
       "0           576"
      ]
     },
     "execution_count": 19,
     "metadata": {},
     "output_type": "execute_result"
    }
   ],
   "source": [
    "total_player = len (purchase_data['SN'].value_counts())\n",
    "\n",
    "player_count = pd.DataFrame({'Total Player':[total_player]})\n",
    "\n",
    "player_count\n"
   ]
  },
  {
   "cell_type": "markdown",
   "metadata": {},
   "source": [
    "## Purchasing Analysis (Total)"
   ]
  },
  {
   "cell_type": "markdown",
   "metadata": {},
   "source": [
    "* Run basic calculations to obtain number of unique items, average price, etc.\n",
    "\n",
    "\n",
    "* Create a summary data frame to hold the results\n",
    "\n",
    "\n",
    "* Optional: give the displayed data cleaner formatting\n",
    "\n",
    "\n",
    "* Display the summary data frame\n"
   ]
  },
  {
   "cell_type": "code",
   "execution_count": 26,
   "metadata": {
    "scrolled": true
   },
   "outputs": [
    {
     "data": {
      "text/html": [
       "<style  type=\"text/css\" >\n",
       "</style><table id=\"T_8b75e588_76b5_11ea_8d87_a0999b1d9b49\" ><thead>    <tr>        <th class=\"blank level0\" ></th>        <th class=\"col_heading level0 col0\" >Number of Unique Items</th>        <th class=\"col_heading level0 col1\" >Average Purchase Price</th>        <th class=\"col_heading level0 col2\" >Number of Purchases</th>        <th class=\"col_heading level0 col3\" >Total Revenue</th>    </tr></thead><tbody>\n",
       "                <tr>\n",
       "                        <th id=\"T_8b75e588_76b5_11ea_8d87_a0999b1d9b49level0_row0\" class=\"row_heading level0 row0\" >0</th>\n",
       "                        <td id=\"T_8b75e588_76b5_11ea_8d87_a0999b1d9b49row0_col0\" class=\"data row0 col0\" >179</td>\n",
       "                        <td id=\"T_8b75e588_76b5_11ea_8d87_a0999b1d9b49row0_col1\" class=\"data row0 col1\" >$3.05</td>\n",
       "                        <td id=\"T_8b75e588_76b5_11ea_8d87_a0999b1d9b49row0_col2\" class=\"data row0 col2\" >780</td>\n",
       "                        <td id=\"T_8b75e588_76b5_11ea_8d87_a0999b1d9b49row0_col3\" class=\"data row0 col3\" >$2,379.77</td>\n",
       "            </tr>\n",
       "    </tbody></table>"
      ],
      "text/plain": [
       "<pandas.io.formats.style.Styler at 0x11855dc50>"
      ]
     },
     "execution_count": 26,
     "metadata": {},
     "output_type": "execute_result"
    }
   ],
   "source": [
    "number_of_unique_items = len((purchase_data['Item ID']).unique())\n",
    "\n",
    "average_price = (purchase_data['Price']).mean()\n",
    "\n",
    "number_of_purchases = (purchase_data['Purchase ID']).count()\n",
    "\n",
    "total_revenue = (purchase_data['Price']).sum()\n",
    "\n",
    "\n",
    "summary_df = pd.DataFrame ({'Number of Unique Items': [number_of_unique_items],\n",
    "                            'Average Purchase Price': [average_price],\n",
    "                            'Number of Purchases': [number_of_purchases],\n",
    "                            'Total Revenue': [total_revenue]})\n",
    "\n",
    "\n",
    "summary_df.style.format({'Average Purchase Price':'${:,.2f}',\n",
    "                        'Total Revenue':'${:,.2f}'})\n"
   ]
  },
  {
   "cell_type": "markdown",
   "metadata": {},
   "source": [
    "## Gender Demographics"
   ]
  },
  {
   "cell_type": "markdown",
   "metadata": {},
   "source": [
    "* Percentage and Count of Male Players\n",
    "\n",
    "\n",
    "* Percentage and Count of Female Players\n",
    "\n",
    "\n",
    "* Percentage and Count of Other / Non-Disclosed\n",
    "\n",
    "\n"
   ]
  },
  {
   "cell_type": "code",
   "execution_count": 27,
   "metadata": {},
   "outputs": [
    {
     "data": {
      "text/html": [
       "<style  type=\"text/css\" >\n",
       "</style><table id=\"T_8d6ac53e_76b5_11ea_8d87_a0999b1d9b49\" ><thead>    <tr>        <th class=\"blank level0\" ></th>        <th class=\"col_heading level0 col0\" >Percentage of Players</th>        <th class=\"col_heading level0 col1\" >Total Count</th>    </tr></thead><tbody>\n",
       "                <tr>\n",
       "                        <th id=\"T_8d6ac53e_76b5_11ea_8d87_a0999b1d9b49level0_row0\" class=\"row_heading level0 row0\" >Female</th>\n",
       "                        <td id=\"T_8d6ac53e_76b5_11ea_8d87_a0999b1d9b49row0_col0\" class=\"data row0 col0\" >14.06%</td>\n",
       "                        <td id=\"T_8d6ac53e_76b5_11ea_8d87_a0999b1d9b49row0_col1\" class=\"data row0 col1\" >81</td>\n",
       "            </tr>\n",
       "            <tr>\n",
       "                        <th id=\"T_8d6ac53e_76b5_11ea_8d87_a0999b1d9b49level0_row1\" class=\"row_heading level0 row1\" >Male</th>\n",
       "                        <td id=\"T_8d6ac53e_76b5_11ea_8d87_a0999b1d9b49row1_col0\" class=\"data row1 col0\" >84.03%</td>\n",
       "                        <td id=\"T_8d6ac53e_76b5_11ea_8d87_a0999b1d9b49row1_col1\" class=\"data row1 col1\" >484</td>\n",
       "            </tr>\n",
       "            <tr>\n",
       "                        <th id=\"T_8d6ac53e_76b5_11ea_8d87_a0999b1d9b49level0_row2\" class=\"row_heading level0 row2\" >Other / Non-Disclosed</th>\n",
       "                        <td id=\"T_8d6ac53e_76b5_11ea_8d87_a0999b1d9b49row2_col0\" class=\"data row2 col0\" >1.91%</td>\n",
       "                        <td id=\"T_8d6ac53e_76b5_11ea_8d87_a0999b1d9b49row2_col1\" class=\"data row2 col1\" >11</td>\n",
       "            </tr>\n",
       "    </tbody></table>"
      ],
      "text/plain": [
       "<pandas.io.formats.style.Styler at 0x118472650>"
      ]
     },
     "execution_count": 27,
     "metadata": {},
     "output_type": "execute_result"
    }
   ],
   "source": [
    "gender_status = purchase_data.groupby('Gender')\n",
    "\n",
    "total_gender = gender_status.nunique()['SN']\n",
    "\n",
    "percent_player = total_gender / total_player * 100\n",
    "\n",
    "\n",
    "gender_demographics = pd.DataFrame ({'Percentage of Players': percent_player, 'Total Count': total_gender})\n",
    "\n",
    "\n",
    "gender_demographics.index.name = None\n",
    "\n",
    "\n",
    "gender_demographics.style.format({'Percentage of Players':'{:,.2f}%',\n",
    "                        'Total Count':'{:,.0f}'})\n"
   ]
  },
  {
   "cell_type": "markdown",
   "metadata": {},
   "source": [
    "\n",
    "## Purchasing Analysis (Gender)"
   ]
  },
  {
   "cell_type": "markdown",
   "metadata": {},
   "source": [
    "* Run basic calculations to obtain purchase count, avg. purchase price, avg. purchase total per person etc. by gender\n",
    "\n",
    "\n",
    "\n",
    "\n",
    "* Create a summary data frame to hold the results\n",
    "\n",
    "\n",
    "* Optional: give the displayed data cleaner formatting\n",
    "\n",
    "\n",
    "* Display the summary data frame"
   ]
  },
  {
   "cell_type": "code",
   "execution_count": 31,
   "metadata": {},
   "outputs": [
    {
     "data": {
      "text/html": [
       "<style  type=\"text/css\" >\n",
       "</style><table id=\"T_feeb516a_76b5_11ea_8d87_a0999b1d9b49\" ><thead>    <tr>        <th class=\"blank level0\" ></th>        <th class=\"col_heading level0 col0\" >Purchase Count</th>        <th class=\"col_heading level0 col1\" >Average Purchase Price</th>        <th class=\"col_heading level0 col2\" >Average Purchase Total per Person</th>        <th class=\"col_heading level0 col3\" >Total Purchase Value</th>    </tr></thead><tbody>\n",
       "                <tr>\n",
       "                        <th id=\"T_feeb516a_76b5_11ea_8d87_a0999b1d9b49level0_row0\" class=\"row_heading level0 row0\" >Female</th>\n",
       "                        <td id=\"T_feeb516a_76b5_11ea_8d87_a0999b1d9b49row0_col0\" class=\"data row0 col0\" >113</td>\n",
       "                        <td id=\"T_feeb516a_76b5_11ea_8d87_a0999b1d9b49row0_col1\" class=\"data row0 col1\" >$3.20</td>\n",
       "                        <td id=\"T_feeb516a_76b5_11ea_8d87_a0999b1d9b49row0_col2\" class=\"data row0 col2\" >$4.47</td>\n",
       "                        <td id=\"T_feeb516a_76b5_11ea_8d87_a0999b1d9b49row0_col3\" class=\"data row0 col3\" >$361.94</td>\n",
       "            </tr>\n",
       "            <tr>\n",
       "                        <th id=\"T_feeb516a_76b5_11ea_8d87_a0999b1d9b49level0_row1\" class=\"row_heading level0 row1\" >Male</th>\n",
       "                        <td id=\"T_feeb516a_76b5_11ea_8d87_a0999b1d9b49row1_col0\" class=\"data row1 col0\" >652</td>\n",
       "                        <td id=\"T_feeb516a_76b5_11ea_8d87_a0999b1d9b49row1_col1\" class=\"data row1 col1\" >$3.02</td>\n",
       "                        <td id=\"T_feeb516a_76b5_11ea_8d87_a0999b1d9b49row1_col2\" class=\"data row1 col2\" >$4.07</td>\n",
       "                        <td id=\"T_feeb516a_76b5_11ea_8d87_a0999b1d9b49row1_col3\" class=\"data row1 col3\" >$1,967.64</td>\n",
       "            </tr>\n",
       "            <tr>\n",
       "                        <th id=\"T_feeb516a_76b5_11ea_8d87_a0999b1d9b49level0_row2\" class=\"row_heading level0 row2\" >Other / Non-Disclosed</th>\n",
       "                        <td id=\"T_feeb516a_76b5_11ea_8d87_a0999b1d9b49row2_col0\" class=\"data row2 col0\" >15</td>\n",
       "                        <td id=\"T_feeb516a_76b5_11ea_8d87_a0999b1d9b49row2_col1\" class=\"data row2 col1\" >$3.35</td>\n",
       "                        <td id=\"T_feeb516a_76b5_11ea_8d87_a0999b1d9b49row2_col2\" class=\"data row2 col2\" >$4.56</td>\n",
       "                        <td id=\"T_feeb516a_76b5_11ea_8d87_a0999b1d9b49row2_col3\" class=\"data row2 col3\" >$50.19</td>\n",
       "            </tr>\n",
       "    </tbody></table>"
      ],
      "text/plain": [
       "<pandas.io.formats.style.Styler at 0x1185811d0>"
      ]
     },
     "execution_count": 31,
     "metadata": {},
     "output_type": "execute_result"
    }
   ],
   "source": [
    "purchase_count = gender_status ['Purchase ID'].count()\n",
    "\n",
    "average_purchase_price = gender_status ['Price'].mean()\n",
    "\n",
    "average_purchase_total = gender_status ['Price'].sum()\n",
    "\n",
    "average_purchase_per_person = average_purchase_total / total_gender\n",
    "\n",
    "\n",
    "gender_demographics = pd.DataFrame ({'Purchase Count': purchase_count,\n",
    "                                    'Average Purchase Price': average_purchase_price,\n",
    "                                    'Average Purchase Total per Person': average_purchase_per_person,\n",
    "                                    'Total Purchase Value': average_purchase_total})\n",
    "\n",
    "\n",
    "gender_demographics.style.format({'Average Purchase Price':'${:,.2f}',\n",
    "                                'Average Purchase Total per Person':'${:,.2f}',\n",
    "                                'Total Purchase Value':'${:,.2f}',})\n"
   ]
  },
  {
   "cell_type": "markdown",
   "metadata": {},
   "source": [
    "## Age Demographics"
   ]
  },
  {
   "cell_type": "markdown",
   "metadata": {},
   "source": [
    "* Establish bins for ages\n",
    "\n",
    "\n",
    "* Categorize the existing players using the age bins. Hint: use pd.cut()\n",
    "\n",
    "\n",
    "* Calculate the numbers and percentages by age group\n",
    "\n",
    "\n",
    "* Create a summary data frame to hold the results\n",
    "\n",
    "\n",
    "* Optional: round the percentage column to two decimal points\n",
    "\n",
    "\n",
    "* Display Age Demographics Table\n"
   ]
  },
  {
   "cell_type": "code",
   "execution_count": 35,
   "metadata": {},
   "outputs": [
    {
     "data": {
      "text/html": [
       "<style  type=\"text/css\" >\n",
       "</style><table id=\"T_e5ea97c4_76b6_11ea_8d87_a0999b1d9b49\" ><thead>    <tr>        <th class=\"blank level0\" ></th>        <th class=\"col_heading level0 col0\" >Total Count</th>        <th class=\"col_heading level0 col1\" >Percentage of Players</th>    </tr></thead><tbody>\n",
       "                <tr>\n",
       "                        <th id=\"T_e5ea97c4_76b6_11ea_8d87_a0999b1d9b49level0_row0\" class=\"row_heading level0 row0\" ><10</th>\n",
       "                        <td id=\"T_e5ea97c4_76b6_11ea_8d87_a0999b1d9b49row0_col0\" class=\"data row0 col0\" >17</td>\n",
       "                        <td id=\"T_e5ea97c4_76b6_11ea_8d87_a0999b1d9b49row0_col1\" class=\"data row0 col1\" >2.95%</td>\n",
       "            </tr>\n",
       "            <tr>\n",
       "                        <th id=\"T_e5ea97c4_76b6_11ea_8d87_a0999b1d9b49level0_row1\" class=\"row_heading level0 row1\" >10-14</th>\n",
       "                        <td id=\"T_e5ea97c4_76b6_11ea_8d87_a0999b1d9b49row1_col0\" class=\"data row1 col0\" >22</td>\n",
       "                        <td id=\"T_e5ea97c4_76b6_11ea_8d87_a0999b1d9b49row1_col1\" class=\"data row1 col1\" >3.82%</td>\n",
       "            </tr>\n",
       "            <tr>\n",
       "                        <th id=\"T_e5ea97c4_76b6_11ea_8d87_a0999b1d9b49level0_row2\" class=\"row_heading level0 row2\" >15-19</th>\n",
       "                        <td id=\"T_e5ea97c4_76b6_11ea_8d87_a0999b1d9b49row2_col0\" class=\"data row2 col0\" >107</td>\n",
       "                        <td id=\"T_e5ea97c4_76b6_11ea_8d87_a0999b1d9b49row2_col1\" class=\"data row2 col1\" >18.58%</td>\n",
       "            </tr>\n",
       "            <tr>\n",
       "                        <th id=\"T_e5ea97c4_76b6_11ea_8d87_a0999b1d9b49level0_row3\" class=\"row_heading level0 row3\" >20-24</th>\n",
       "                        <td id=\"T_e5ea97c4_76b6_11ea_8d87_a0999b1d9b49row3_col0\" class=\"data row3 col0\" >258</td>\n",
       "                        <td id=\"T_e5ea97c4_76b6_11ea_8d87_a0999b1d9b49row3_col1\" class=\"data row3 col1\" >44.79%</td>\n",
       "            </tr>\n",
       "            <tr>\n",
       "                        <th id=\"T_e5ea97c4_76b6_11ea_8d87_a0999b1d9b49level0_row4\" class=\"row_heading level0 row4\" >25-29</th>\n",
       "                        <td id=\"T_e5ea97c4_76b6_11ea_8d87_a0999b1d9b49row4_col0\" class=\"data row4 col0\" >77</td>\n",
       "                        <td id=\"T_e5ea97c4_76b6_11ea_8d87_a0999b1d9b49row4_col1\" class=\"data row4 col1\" >13.37%</td>\n",
       "            </tr>\n",
       "            <tr>\n",
       "                        <th id=\"T_e5ea97c4_76b6_11ea_8d87_a0999b1d9b49level0_row5\" class=\"row_heading level0 row5\" >30-34</th>\n",
       "                        <td id=\"T_e5ea97c4_76b6_11ea_8d87_a0999b1d9b49row5_col0\" class=\"data row5 col0\" >52</td>\n",
       "                        <td id=\"T_e5ea97c4_76b6_11ea_8d87_a0999b1d9b49row5_col1\" class=\"data row5 col1\" >9.03%</td>\n",
       "            </tr>\n",
       "            <tr>\n",
       "                        <th id=\"T_e5ea97c4_76b6_11ea_8d87_a0999b1d9b49level0_row6\" class=\"row_heading level0 row6\" >35-39</th>\n",
       "                        <td id=\"T_e5ea97c4_76b6_11ea_8d87_a0999b1d9b49row6_col0\" class=\"data row6 col0\" >31</td>\n",
       "                        <td id=\"T_e5ea97c4_76b6_11ea_8d87_a0999b1d9b49row6_col1\" class=\"data row6 col1\" >5.38%</td>\n",
       "            </tr>\n",
       "            <tr>\n",
       "                        <th id=\"T_e5ea97c4_76b6_11ea_8d87_a0999b1d9b49level0_row7\" class=\"row_heading level0 row7\" >40+</th>\n",
       "                        <td id=\"T_e5ea97c4_76b6_11ea_8d87_a0999b1d9b49row7_col0\" class=\"data row7 col0\" >12</td>\n",
       "                        <td id=\"T_e5ea97c4_76b6_11ea_8d87_a0999b1d9b49row7_col1\" class=\"data row7 col1\" >2.08%</td>\n",
       "            </tr>\n",
       "    </tbody></table>"
      ],
      "text/plain": [
       "<pandas.io.formats.style.Styler at 0x118581a90>"
      ]
     },
     "execution_count": 35,
     "metadata": {},
     "output_type": "execute_result"
    }
   ],
   "source": [
    "bin_age = [0, 9.99, 14.99, 19.99, 24.99, 29.99, 34.99, 39.99, 999]\n",
    "\n",
    "group_name = ['<10', '10-14', '15-19','20-24', '25-29', '30-34', '35-39', '40+']\n",
    "\n",
    "\n",
    "purchase_data ['Age Group'] = pd.cut(purchase_data ['Age'], bin_age, labels = group_name)\n",
    "\n",
    "age_grouped = purchase_data.groupby('Age Group')\n",
    "\n",
    "age_count = age_grouped ['SN'].nunique()\n",
    "\n",
    "percent_age = age_count / total_player * 100\n",
    "\n",
    "\n",
    "age_demographics = pd.DataFrame ({'Total Count': age_count, 'Percentage of Players': percent_age})\n",
    "\n",
    "\n",
    "age_demographics.index.name = None\n",
    "\n",
    "\n",
    "age_demographics.style.format({'Percentage of Players':'{:,.2f}%'})\n"
   ]
  },
  {
   "cell_type": "markdown",
   "metadata": {},
   "source": [
    "## Purchasing Analysis (Age)"
   ]
  },
  {
   "cell_type": "markdown",
   "metadata": {},
   "source": [
    "* Bin the purchase_data data frame by age\n",
    "\n",
    "\n",
    "* Run basic calculations to obtain purchase count, avg. purchase price, avg. purchase total per person etc. in the table below\n",
    "\n",
    "\n",
    "* Create a summary data frame to hold the results\n",
    "\n",
    "\n",
    "* Optional: give the displayed data cleaner formatting\n",
    "\n",
    "\n",
    "* Display the summary data frame"
   ]
  },
  {
   "cell_type": "code",
   "execution_count": 39,
   "metadata": {},
   "outputs": [
    {
     "data": {
      "text/html": [
       "<style  type=\"text/css\" >\n",
       "</style><table id=\"T_990899b4_76b7_11ea_8d87_a0999b1d9b49\" ><thead>    <tr>        <th class=\"blank level0\" ></th>        <th class=\"col_heading level0 col0\" >Purchase Count</th>        <th class=\"col_heading level0 col1\" >Average Purchase Price</th>        <th class=\"col_heading level0 col2\" >Average Purchase Total per Person</th>        <th class=\"col_heading level0 col3\" >Total Purchase Value</th>    </tr>    <tr>        <th class=\"index_name level0\" >Age Range</th>        <th class=\"blank\" ></th>        <th class=\"blank\" ></th>        <th class=\"blank\" ></th>        <th class=\"blank\" ></th>    </tr></thead><tbody>\n",
       "                <tr>\n",
       "                        <th id=\"T_990899b4_76b7_11ea_8d87_a0999b1d9b49level0_row0\" class=\"row_heading level0 row0\" ><10</th>\n",
       "                        <td id=\"T_990899b4_76b7_11ea_8d87_a0999b1d9b49row0_col0\" class=\"data row0 col0\" >23</td>\n",
       "                        <td id=\"T_990899b4_76b7_11ea_8d87_a0999b1d9b49row0_col1\" class=\"data row0 col1\" >$3.35</td>\n",
       "                        <td id=\"T_990899b4_76b7_11ea_8d87_a0999b1d9b49row0_col2\" class=\"data row0 col2\" >$4.54</td>\n",
       "                        <td id=\"T_990899b4_76b7_11ea_8d87_a0999b1d9b49row0_col3\" class=\"data row0 col3\" >$77.13</td>\n",
       "            </tr>\n",
       "            <tr>\n",
       "                        <th id=\"T_990899b4_76b7_11ea_8d87_a0999b1d9b49level0_row1\" class=\"row_heading level0 row1\" >10-14</th>\n",
       "                        <td id=\"T_990899b4_76b7_11ea_8d87_a0999b1d9b49row1_col0\" class=\"data row1 col0\" >28</td>\n",
       "                        <td id=\"T_990899b4_76b7_11ea_8d87_a0999b1d9b49row1_col1\" class=\"data row1 col1\" >$2.96</td>\n",
       "                        <td id=\"T_990899b4_76b7_11ea_8d87_a0999b1d9b49row1_col2\" class=\"data row1 col2\" >$3.76</td>\n",
       "                        <td id=\"T_990899b4_76b7_11ea_8d87_a0999b1d9b49row1_col3\" class=\"data row1 col3\" >$82.78</td>\n",
       "            </tr>\n",
       "            <tr>\n",
       "                        <th id=\"T_990899b4_76b7_11ea_8d87_a0999b1d9b49level0_row2\" class=\"row_heading level0 row2\" >15-19</th>\n",
       "                        <td id=\"T_990899b4_76b7_11ea_8d87_a0999b1d9b49row2_col0\" class=\"data row2 col0\" >136</td>\n",
       "                        <td id=\"T_990899b4_76b7_11ea_8d87_a0999b1d9b49row2_col1\" class=\"data row2 col1\" >$3.04</td>\n",
       "                        <td id=\"T_990899b4_76b7_11ea_8d87_a0999b1d9b49row2_col2\" class=\"data row2 col2\" >$3.86</td>\n",
       "                        <td id=\"T_990899b4_76b7_11ea_8d87_a0999b1d9b49row2_col3\" class=\"data row2 col3\" >$412.89</td>\n",
       "            </tr>\n",
       "            <tr>\n",
       "                        <th id=\"T_990899b4_76b7_11ea_8d87_a0999b1d9b49level0_row3\" class=\"row_heading level0 row3\" >20-24</th>\n",
       "                        <td id=\"T_990899b4_76b7_11ea_8d87_a0999b1d9b49row3_col0\" class=\"data row3 col0\" >365</td>\n",
       "                        <td id=\"T_990899b4_76b7_11ea_8d87_a0999b1d9b49row3_col1\" class=\"data row3 col1\" >$3.05</td>\n",
       "                        <td id=\"T_990899b4_76b7_11ea_8d87_a0999b1d9b49row3_col2\" class=\"data row3 col2\" >$4.32</td>\n",
       "                        <td id=\"T_990899b4_76b7_11ea_8d87_a0999b1d9b49row3_col3\" class=\"data row3 col3\" >$1,114.06</td>\n",
       "            </tr>\n",
       "            <tr>\n",
       "                        <th id=\"T_990899b4_76b7_11ea_8d87_a0999b1d9b49level0_row4\" class=\"row_heading level0 row4\" >25-29</th>\n",
       "                        <td id=\"T_990899b4_76b7_11ea_8d87_a0999b1d9b49row4_col0\" class=\"data row4 col0\" >101</td>\n",
       "                        <td id=\"T_990899b4_76b7_11ea_8d87_a0999b1d9b49row4_col1\" class=\"data row4 col1\" >$2.90</td>\n",
       "                        <td id=\"T_990899b4_76b7_11ea_8d87_a0999b1d9b49row4_col2\" class=\"data row4 col2\" >$3.81</td>\n",
       "                        <td id=\"T_990899b4_76b7_11ea_8d87_a0999b1d9b49row4_col3\" class=\"data row4 col3\" >$293.00</td>\n",
       "            </tr>\n",
       "            <tr>\n",
       "                        <th id=\"T_990899b4_76b7_11ea_8d87_a0999b1d9b49level0_row5\" class=\"row_heading level0 row5\" >30-34</th>\n",
       "                        <td id=\"T_990899b4_76b7_11ea_8d87_a0999b1d9b49row5_col0\" class=\"data row5 col0\" >73</td>\n",
       "                        <td id=\"T_990899b4_76b7_11ea_8d87_a0999b1d9b49row5_col1\" class=\"data row5 col1\" >$2.93</td>\n",
       "                        <td id=\"T_990899b4_76b7_11ea_8d87_a0999b1d9b49row5_col2\" class=\"data row5 col2\" >$4.12</td>\n",
       "                        <td id=\"T_990899b4_76b7_11ea_8d87_a0999b1d9b49row5_col3\" class=\"data row5 col3\" >$214.00</td>\n",
       "            </tr>\n",
       "            <tr>\n",
       "                        <th id=\"T_990899b4_76b7_11ea_8d87_a0999b1d9b49level0_row6\" class=\"row_heading level0 row6\" >35-39</th>\n",
       "                        <td id=\"T_990899b4_76b7_11ea_8d87_a0999b1d9b49row6_col0\" class=\"data row6 col0\" >41</td>\n",
       "                        <td id=\"T_990899b4_76b7_11ea_8d87_a0999b1d9b49row6_col1\" class=\"data row6 col1\" >$3.60</td>\n",
       "                        <td id=\"T_990899b4_76b7_11ea_8d87_a0999b1d9b49row6_col2\" class=\"data row6 col2\" >$4.76</td>\n",
       "                        <td id=\"T_990899b4_76b7_11ea_8d87_a0999b1d9b49row6_col3\" class=\"data row6 col3\" >$147.67</td>\n",
       "            </tr>\n",
       "            <tr>\n",
       "                        <th id=\"T_990899b4_76b7_11ea_8d87_a0999b1d9b49level0_row7\" class=\"row_heading level0 row7\" >40+</th>\n",
       "                        <td id=\"T_990899b4_76b7_11ea_8d87_a0999b1d9b49row7_col0\" class=\"data row7 col0\" >13</td>\n",
       "                        <td id=\"T_990899b4_76b7_11ea_8d87_a0999b1d9b49row7_col1\" class=\"data row7 col1\" >$2.94</td>\n",
       "                        <td id=\"T_990899b4_76b7_11ea_8d87_a0999b1d9b49row7_col2\" class=\"data row7 col2\" >$3.19</td>\n",
       "                        <td id=\"T_990899b4_76b7_11ea_8d87_a0999b1d9b49row7_col3\" class=\"data row7 col3\" >$38.24</td>\n",
       "            </tr>\n",
       "    </tbody></table>"
      ],
      "text/plain": [
       "<pandas.io.formats.style.Styler at 0x118625450>"
      ]
     },
     "execution_count": 39,
     "metadata": {},
     "output_type": "execute_result"
    }
   ],
   "source": [
    "perchase_count_age = age_grouped ['Purchase ID'].count()\n",
    "\n",
    "average_purchase_price_age = age_grouped ['Price'].mean()\n",
    "\n",
    "average_purchase_total_age = age_grouped ['Price'].sum()\n",
    "\n",
    "average_purchase_per_person_age = average_purchase_total_age / age_count\n",
    "\n",
    "\n",
    "age_demographics = pd.DataFrame ({'Purchase Count': perchase_count_age,\n",
    "                                    'Average Purchase Price': average_purchase_price_age,\n",
    "                                    'Average Purchase Total per Person': average_purchase_per_person_age,\n",
    "                                    'Total Purchase Value': average_purchase_total_age})\n",
    "\n",
    "\n",
    "age_demographics.index.name = 'Age Range'\n",
    "\n",
    "\n",
    "age_demographics.style.format({'Average Purchase Price':'${:,.2f}',\n",
    "                               'Average Purchase Total per Person':'${:,.2f}', \n",
    "                               'Total Purchase Value':'${:,.2f}',})\n"
   ]
  },
  {
   "cell_type": "markdown",
   "metadata": {},
   "source": [
    "## Top Spenders"
   ]
  },
  {
   "cell_type": "markdown",
   "metadata": {},
   "source": [
    "* Run basic calculations to obtain the results in the table below\n",
    "\n",
    "\n",
    "* Create a summary data frame to hold the results\n",
    "\n",
    "\n",
    "* Sort the total purchase value column in descending order\n",
    "\n",
    "\n",
    "* Optional: give the displayed data cleaner formatting\n",
    "\n",
    "\n",
    "* Display a preview of the summary data frame\n",
    "\n"
   ]
  },
  {
   "cell_type": "code",
   "execution_count": 43,
   "metadata": {},
   "outputs": [
    {
     "data": {
      "text/html": [
       "<style  type=\"text/css\" >\n",
       "</style><table id=\"T_f60118b2_76b7_11ea_8d87_a0999b1d9b49\" ><thead>    <tr>        <th class=\"blank level0\" ></th>        <th class=\"col_heading level0 col0\" >Purchase Count</th>        <th class=\"col_heading level0 col1\" >Average Purchase Price</th>        <th class=\"col_heading level0 col2\" >Total Purchase Value</th>    </tr>    <tr>        <th class=\"index_name level0\" >SN</th>        <th class=\"blank\" ></th>        <th class=\"blank\" ></th>        <th class=\"blank\" ></th>    </tr></thead><tbody>\n",
       "                <tr>\n",
       "                        <th id=\"T_f60118b2_76b7_11ea_8d87_a0999b1d9b49level0_row0\" class=\"row_heading level0 row0\" >Lisosia93</th>\n",
       "                        <td id=\"T_f60118b2_76b7_11ea_8d87_a0999b1d9b49row0_col0\" class=\"data row0 col0\" >5</td>\n",
       "                        <td id=\"T_f60118b2_76b7_11ea_8d87_a0999b1d9b49row0_col1\" class=\"data row0 col1\" >$3.79</td>\n",
       "                        <td id=\"T_f60118b2_76b7_11ea_8d87_a0999b1d9b49row0_col2\" class=\"data row0 col2\" >$18.96</td>\n",
       "            </tr>\n",
       "            <tr>\n",
       "                        <th id=\"T_f60118b2_76b7_11ea_8d87_a0999b1d9b49level0_row1\" class=\"row_heading level0 row1\" >Idastidru52</th>\n",
       "                        <td id=\"T_f60118b2_76b7_11ea_8d87_a0999b1d9b49row1_col0\" class=\"data row1 col0\" >4</td>\n",
       "                        <td id=\"T_f60118b2_76b7_11ea_8d87_a0999b1d9b49row1_col1\" class=\"data row1 col1\" >$3.86</td>\n",
       "                        <td id=\"T_f60118b2_76b7_11ea_8d87_a0999b1d9b49row1_col2\" class=\"data row1 col2\" >$15.45</td>\n",
       "            </tr>\n",
       "            <tr>\n",
       "                        <th id=\"T_f60118b2_76b7_11ea_8d87_a0999b1d9b49level0_row2\" class=\"row_heading level0 row2\" >Chamjask73</th>\n",
       "                        <td id=\"T_f60118b2_76b7_11ea_8d87_a0999b1d9b49row2_col0\" class=\"data row2 col0\" >3</td>\n",
       "                        <td id=\"T_f60118b2_76b7_11ea_8d87_a0999b1d9b49row2_col1\" class=\"data row2 col1\" >$4.61</td>\n",
       "                        <td id=\"T_f60118b2_76b7_11ea_8d87_a0999b1d9b49row2_col2\" class=\"data row2 col2\" >$13.83</td>\n",
       "            </tr>\n",
       "            <tr>\n",
       "                        <th id=\"T_f60118b2_76b7_11ea_8d87_a0999b1d9b49level0_row3\" class=\"row_heading level0 row3\" >Iral74</th>\n",
       "                        <td id=\"T_f60118b2_76b7_11ea_8d87_a0999b1d9b49row3_col0\" class=\"data row3 col0\" >4</td>\n",
       "                        <td id=\"T_f60118b2_76b7_11ea_8d87_a0999b1d9b49row3_col1\" class=\"data row3 col1\" >$3.40</td>\n",
       "                        <td id=\"T_f60118b2_76b7_11ea_8d87_a0999b1d9b49row3_col2\" class=\"data row3 col2\" >$13.62</td>\n",
       "            </tr>\n",
       "            <tr>\n",
       "                        <th id=\"T_f60118b2_76b7_11ea_8d87_a0999b1d9b49level0_row4\" class=\"row_heading level0 row4\" >Iskadarya95</th>\n",
       "                        <td id=\"T_f60118b2_76b7_11ea_8d87_a0999b1d9b49row4_col0\" class=\"data row4 col0\" >3</td>\n",
       "                        <td id=\"T_f60118b2_76b7_11ea_8d87_a0999b1d9b49row4_col1\" class=\"data row4 col1\" >$4.37</td>\n",
       "                        <td id=\"T_f60118b2_76b7_11ea_8d87_a0999b1d9b49row4_col2\" class=\"data row4 col2\" >$13.10</td>\n",
       "            </tr>\n",
       "    </tbody></table>"
      ],
      "text/plain": [
       "<pandas.io.formats.style.Styler at 0x11861b3d0>"
      ]
     },
     "execution_count": 43,
     "metadata": {},
     "output_type": "execute_result"
    }
   ],
   "source": [
    "spenders_status = purchase_data.groupby('SN')\n",
    "\n",
    "\n",
    "spenders_perchase_count = spenders_status ['Purchase ID'].count()\n",
    "\n",
    "spenders_average_purchase_price = spenders_status ['Price'].mean()\n",
    "\n",
    "spenders_average_purchase_total = spenders_status ['Price'].sum()\n",
    "\n",
    "\n",
    "spenders = pd.DataFrame ({'Purchase Count': spenders_perchase_count,\n",
    "                        'Average Purchase Price': spenders_average_purchase_price,\n",
    "                        'Total Purchase Value': spenders_average_purchase_total})\n",
    "\n",
    "\n",
    "top_spenders = spenders.sort_values(['Total Purchase Value'], ascending=False).head()\n",
    "\n",
    "\n",
    "top_spenders.style.format({'Average Purchase Price':'${:,.2f}',\n",
    "                        'Total Purchase Value':'${:,.2f}'})\n"
   ]
  },
  {
   "cell_type": "markdown",
   "metadata": {},
   "source": [
    "## Most Popular Items"
   ]
  },
  {
   "cell_type": "markdown",
   "metadata": {},
   "source": [
    "* Retrieve the Item ID, Item Name, and Item Price columns\n",
    "\n",
    "\n",
    "* Group by Item ID and Item Name. Perform calculations to obtain purchase count, item price, and total purchase value\n",
    "\n",
    "\n",
    "* Create a summary data frame to hold the results\n",
    "\n",
    "\n",
    "* Sort the purchase count column in descending order\n",
    "\n",
    "\n",
    "* Optional: give the displayed data cleaner formatting\n",
    "\n",
    "\n",
    "* Display a preview of the summary data frame\n",
    "\n"
   ]
  },
  {
   "cell_type": "code",
   "execution_count": 44,
   "metadata": {},
   "outputs": [
    {
     "data": {
      "text/html": [
       "<style  type=\"text/css\" >\n",
       "</style><table id=\"T_31e28a8c_76b8_11ea_8d87_a0999b1d9b49\" ><thead>    <tr>        <th class=\"blank\" ></th>        <th class=\"blank level0\" ></th>        <th class=\"col_heading level0 col0\" >Purchase Count</th>        <th class=\"col_heading level0 col1\" >Item Price</th>        <th class=\"col_heading level0 col2\" >Total Purchase Value</th>    </tr>    <tr>        <th class=\"index_name level0\" >Item ID</th>        <th class=\"index_name level1\" >Item Name</th>        <th class=\"blank\" ></th>        <th class=\"blank\" ></th>        <th class=\"blank\" ></th>    </tr></thead><tbody>\n",
       "                <tr>\n",
       "                        <th id=\"T_31e28a8c_76b8_11ea_8d87_a0999b1d9b49level0_row0\" class=\"row_heading level0 row0\" >92</th>\n",
       "                        <th id=\"T_31e28a8c_76b8_11ea_8d87_a0999b1d9b49level1_row0\" class=\"row_heading level1 row0\" >Final Critic</th>\n",
       "                        <td id=\"T_31e28a8c_76b8_11ea_8d87_a0999b1d9b49row0_col0\" class=\"data row0 col0\" >13</td>\n",
       "                        <td id=\"T_31e28a8c_76b8_11ea_8d87_a0999b1d9b49row0_col1\" class=\"data row0 col1\" >$4.61</td>\n",
       "                        <td id=\"T_31e28a8c_76b8_11ea_8d87_a0999b1d9b49row0_col2\" class=\"data row0 col2\" >$59.99</td>\n",
       "            </tr>\n",
       "            <tr>\n",
       "                        <th id=\"T_31e28a8c_76b8_11ea_8d87_a0999b1d9b49level0_row1\" class=\"row_heading level0 row1\" >178</th>\n",
       "                        <th id=\"T_31e28a8c_76b8_11ea_8d87_a0999b1d9b49level1_row1\" class=\"row_heading level1 row1\" >Oathbreaker, Last Hope of the Breaking Storm</th>\n",
       "                        <td id=\"T_31e28a8c_76b8_11ea_8d87_a0999b1d9b49row1_col0\" class=\"data row1 col0\" >12</td>\n",
       "                        <td id=\"T_31e28a8c_76b8_11ea_8d87_a0999b1d9b49row1_col1\" class=\"data row1 col1\" >$4.23</td>\n",
       "                        <td id=\"T_31e28a8c_76b8_11ea_8d87_a0999b1d9b49row1_col2\" class=\"data row1 col2\" >$50.76</td>\n",
       "            </tr>\n",
       "            <tr>\n",
       "                        <th id=\"T_31e28a8c_76b8_11ea_8d87_a0999b1d9b49level0_row2\" class=\"row_heading level0 row2\" >145</th>\n",
       "                        <th id=\"T_31e28a8c_76b8_11ea_8d87_a0999b1d9b49level1_row2\" class=\"row_heading level1 row2\" >Fiery Glass Crusader</th>\n",
       "                        <td id=\"T_31e28a8c_76b8_11ea_8d87_a0999b1d9b49row2_col0\" class=\"data row2 col0\" >9</td>\n",
       "                        <td id=\"T_31e28a8c_76b8_11ea_8d87_a0999b1d9b49row2_col1\" class=\"data row2 col1\" >$4.58</td>\n",
       "                        <td id=\"T_31e28a8c_76b8_11ea_8d87_a0999b1d9b49row2_col2\" class=\"data row2 col2\" >$41.22</td>\n",
       "            </tr>\n",
       "            <tr>\n",
       "                        <th id=\"T_31e28a8c_76b8_11ea_8d87_a0999b1d9b49level0_row3\" class=\"row_heading level0 row3\" >132</th>\n",
       "                        <th id=\"T_31e28a8c_76b8_11ea_8d87_a0999b1d9b49level1_row3\" class=\"row_heading level1 row3\" >Persuasion</th>\n",
       "                        <td id=\"T_31e28a8c_76b8_11ea_8d87_a0999b1d9b49row3_col0\" class=\"data row3 col0\" >9</td>\n",
       "                        <td id=\"T_31e28a8c_76b8_11ea_8d87_a0999b1d9b49row3_col1\" class=\"data row3 col1\" >$3.22</td>\n",
       "                        <td id=\"T_31e28a8c_76b8_11ea_8d87_a0999b1d9b49row3_col2\" class=\"data row3 col2\" >$28.99</td>\n",
       "            </tr>\n",
       "            <tr>\n",
       "                        <th id=\"T_31e28a8c_76b8_11ea_8d87_a0999b1d9b49level0_row4\" class=\"row_heading level0 row4\" >108</th>\n",
       "                        <th id=\"T_31e28a8c_76b8_11ea_8d87_a0999b1d9b49level1_row4\" class=\"row_heading level1 row4\" >Extraction, Quickblade Of Trembling Hands</th>\n",
       "                        <td id=\"T_31e28a8c_76b8_11ea_8d87_a0999b1d9b49row4_col0\" class=\"data row4 col0\" >9</td>\n",
       "                        <td id=\"T_31e28a8c_76b8_11ea_8d87_a0999b1d9b49row4_col1\" class=\"data row4 col1\" >$3.53</td>\n",
       "                        <td id=\"T_31e28a8c_76b8_11ea_8d87_a0999b1d9b49row4_col2\" class=\"data row4 col2\" >$31.77</td>\n",
       "            </tr>\n",
       "    </tbody></table>"
      ],
      "text/plain": [
       "<pandas.io.formats.style.Styler at 0x11863b710>"
      ]
     },
     "execution_count": 44,
     "metadata": {},
     "output_type": "execute_result"
    }
   ],
   "source": [
    "items = purchase_data[['Item ID', 'Item Name', 'Price']]\n",
    "\n",
    "items_grouped = items.groupby (['Item ID', 'Item Name'])\n",
    "\n",
    "\n",
    "purchase_count = items_grouped ['Price'].count()\n",
    "\n",
    "purchase_value = (items_grouped ['Price'].sum())\n",
    "\n",
    "item_price = purchase_value / purchase_count\n",
    "\n",
    "\n",
    "popular_items = pd.DataFrame ({'Purchase Count': purchase_count,\n",
    "                            'Item Price': item_price,\n",
    "                            'Total Purchase Value': purchase_value})\n",
    "\n",
    "\n",
    "most_popular_items = popular_items.sort_values(['Purchase Count'], ascending=False).head()\n",
    "\n",
    "\n",
    "most_popular_items.style.format({'Item Price':'${:,.2f}',\n",
    "                                'Total Purchase Value':'${:,.2f}'})\n"
   ]
  },
  {
   "cell_type": "markdown",
   "metadata": {},
   "source": [
    "## Most Profitable Items"
   ]
  },
  {
   "cell_type": "markdown",
   "metadata": {},
   "source": [
    "* Sort the above table by total purchase value in descending order\n",
    "\n",
    "\n",
    "* Optional: give the displayed data cleaner formatting\n",
    "\n",
    "\n",
    "* Display a preview of the data frame\n",
    "\n"
   ]
  },
  {
   "cell_type": "code",
   "execution_count": 45,
   "metadata": {
    "scrolled": true
   },
   "outputs": [
    {
     "data": {
      "text/html": [
       "<style  type=\"text/css\" >\n",
       "</style><table id=\"T_402391fe_76b8_11ea_8d87_a0999b1d9b49\" ><thead>    <tr>        <th class=\"blank\" ></th>        <th class=\"blank level0\" ></th>        <th class=\"col_heading level0 col0\" >Purchase Count</th>        <th class=\"col_heading level0 col1\" >Item Price</th>        <th class=\"col_heading level0 col2\" >Total Purchase Value</th>    </tr>    <tr>        <th class=\"index_name level0\" >Item ID</th>        <th class=\"index_name level1\" >Item Name</th>        <th class=\"blank\" ></th>        <th class=\"blank\" ></th>        <th class=\"blank\" ></th>    </tr></thead><tbody>\n",
       "                <tr>\n",
       "                        <th id=\"T_402391fe_76b8_11ea_8d87_a0999b1d9b49level0_row0\" class=\"row_heading level0 row0\" >92</th>\n",
       "                        <th id=\"T_402391fe_76b8_11ea_8d87_a0999b1d9b49level1_row0\" class=\"row_heading level1 row0\" >Final Critic</th>\n",
       "                        <td id=\"T_402391fe_76b8_11ea_8d87_a0999b1d9b49row0_col0\" class=\"data row0 col0\" >13</td>\n",
       "                        <td id=\"T_402391fe_76b8_11ea_8d87_a0999b1d9b49row0_col1\" class=\"data row0 col1\" >$4.61</td>\n",
       "                        <td id=\"T_402391fe_76b8_11ea_8d87_a0999b1d9b49row0_col2\" class=\"data row0 col2\" >$59.99</td>\n",
       "            </tr>\n",
       "            <tr>\n",
       "                        <th id=\"T_402391fe_76b8_11ea_8d87_a0999b1d9b49level0_row1\" class=\"row_heading level0 row1\" >178</th>\n",
       "                        <th id=\"T_402391fe_76b8_11ea_8d87_a0999b1d9b49level1_row1\" class=\"row_heading level1 row1\" >Oathbreaker, Last Hope of the Breaking Storm</th>\n",
       "                        <td id=\"T_402391fe_76b8_11ea_8d87_a0999b1d9b49row1_col0\" class=\"data row1 col0\" >12</td>\n",
       "                        <td id=\"T_402391fe_76b8_11ea_8d87_a0999b1d9b49row1_col1\" class=\"data row1 col1\" >$4.23</td>\n",
       "                        <td id=\"T_402391fe_76b8_11ea_8d87_a0999b1d9b49row1_col2\" class=\"data row1 col2\" >$50.76</td>\n",
       "            </tr>\n",
       "            <tr>\n",
       "                        <th id=\"T_402391fe_76b8_11ea_8d87_a0999b1d9b49level0_row2\" class=\"row_heading level0 row2\" >82</th>\n",
       "                        <th id=\"T_402391fe_76b8_11ea_8d87_a0999b1d9b49level1_row2\" class=\"row_heading level1 row2\" >Nirvana</th>\n",
       "                        <td id=\"T_402391fe_76b8_11ea_8d87_a0999b1d9b49row2_col0\" class=\"data row2 col0\" >9</td>\n",
       "                        <td id=\"T_402391fe_76b8_11ea_8d87_a0999b1d9b49row2_col1\" class=\"data row2 col1\" >$4.90</td>\n",
       "                        <td id=\"T_402391fe_76b8_11ea_8d87_a0999b1d9b49row2_col2\" class=\"data row2 col2\" >$44.10</td>\n",
       "            </tr>\n",
       "            <tr>\n",
       "                        <th id=\"T_402391fe_76b8_11ea_8d87_a0999b1d9b49level0_row3\" class=\"row_heading level0 row3\" >145</th>\n",
       "                        <th id=\"T_402391fe_76b8_11ea_8d87_a0999b1d9b49level1_row3\" class=\"row_heading level1 row3\" >Fiery Glass Crusader</th>\n",
       "                        <td id=\"T_402391fe_76b8_11ea_8d87_a0999b1d9b49row3_col0\" class=\"data row3 col0\" >9</td>\n",
       "                        <td id=\"T_402391fe_76b8_11ea_8d87_a0999b1d9b49row3_col1\" class=\"data row3 col1\" >$4.58</td>\n",
       "                        <td id=\"T_402391fe_76b8_11ea_8d87_a0999b1d9b49row3_col2\" class=\"data row3 col2\" >$41.22</td>\n",
       "            </tr>\n",
       "            <tr>\n",
       "                        <th id=\"T_402391fe_76b8_11ea_8d87_a0999b1d9b49level0_row4\" class=\"row_heading level0 row4\" >103</th>\n",
       "                        <th id=\"T_402391fe_76b8_11ea_8d87_a0999b1d9b49level1_row4\" class=\"row_heading level1 row4\" >Singed Scalpel</th>\n",
       "                        <td id=\"T_402391fe_76b8_11ea_8d87_a0999b1d9b49row4_col0\" class=\"data row4 col0\" >8</td>\n",
       "                        <td id=\"T_402391fe_76b8_11ea_8d87_a0999b1d9b49row4_col1\" class=\"data row4 col1\" >$4.35</td>\n",
       "                        <td id=\"T_402391fe_76b8_11ea_8d87_a0999b1d9b49row4_col2\" class=\"data row4 col2\" >$34.80</td>\n",
       "            </tr>\n",
       "    </tbody></table>"
      ],
      "text/plain": [
       "<pandas.io.formats.style.Styler at 0x118637f10>"
      ]
     },
     "execution_count": 45,
     "metadata": {},
     "output_type": "execute_result"
    }
   ],
   "source": [
    "most_popular_items = popular_items.sort_values(['Total Purchase Value'], ascending=False).head()\n",
    "\n",
    "\n",
    "most_popular_items.style.format({'Item Price':'${:,.2f}',\n",
    "                                'Total Purchase Value':'${:,.2f}'})\n"
   ]
  },
  {
   "cell_type": "code",
   "execution_count": null,
   "metadata": {},
   "outputs": [],
   "source": []
  },
  {
   "cell_type": "code",
   "execution_count": null,
   "metadata": {},
   "outputs": [],
   "source": []
  }
 ],
 "metadata": {
  "anaconda-cloud": {},
  "kernel_info": {
   "name": "python3"
  },
  "kernelspec": {
   "display_name": "Python 3",
   "language": "python",
   "name": "python3"
  },
  "language_info": {
   "codemirror_mode": {
    "name": "ipython",
    "version": 3
   },
   "file_extension": ".py",
   "mimetype": "text/x-python",
   "name": "python",
   "nbconvert_exporter": "python",
   "pygments_lexer": "ipython3",
   "version": "3.7.4"
  },
  "latex_envs": {
   "LaTeX_envs_menu_present": true,
   "autoclose": false,
   "autocomplete": true,
   "bibliofile": "biblio.bib",
   "cite_by": "apalike",
   "current_citInitial": 1,
   "eqLabelWithNumbers": true,
   "eqNumInitial": 1,
   "hotkeys": {
    "equation": "Ctrl-E",
    "itemize": "Ctrl-I"
   },
   "labels_anchors": false,
   "latex_user_defs": false,
   "report_style_numbering": false,
   "user_envs_cfg": false
  },
  "nteract": {
   "version": "0.2.0"
  }
 },
 "nbformat": 4,
 "nbformat_minor": 2
}
